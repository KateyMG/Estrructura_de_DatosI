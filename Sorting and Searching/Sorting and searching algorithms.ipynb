{
 "cells": [
  {
   "cell_type": "markdown",
   "metadata": {},
   "source": [
    "# <font color='skyblue'>SORTING_AND_SEARCHING_ALGORITHM</font>\n",
    "   "
   ]
  },
  {
   "cell_type": "markdown",
   "metadata": {},
   "source": [
    "## <font color='blue'>SORTING</font>"
   ]
  },
  {
   "cell_type": "markdown",
   "metadata": {},
   "source": [
    "### <font color='red'>1. Bitonic Sorting</font>"
   ]
  },
  {
   "cell_type": "markdown",
   "metadata": {},
   "source": [
    "### ¿Cómo funciona?\n"
   ]
  },
  {
   "cell_type": "markdown",
   "metadata": {},
   "source": [
    "Bitonic Sort es una algoritmo paralelo para el ordenamiento. \n",
    "Este algoritmo hace comparaciones en tiempo O(n Log 2n)\n",
    "\n",
    "Secuencia Bitónica:\n",
    "Es una secuencia que primero aumenta y luego disminuye. Para formar un secuencia bitónica a partir de entradas random se deben forman secuencias bitónicas de 4 elementos de una secuencia consecutiva de 2 elementos. x0, x1, x2, x3. Se clasifica x0 y x1 en orden ascendente y x2 y x3 en orden descendente. Y luego se concatenan. Luego una secuencia de 4 elementos.Y se repite.\n",
    "\n",
    "Pasos:\n",
    "\n",
    "1. Formar una secuencia bitónica\n",
    "2. Se separa en dos. La primera mitad se ordena en orden ascendente y la segunda en descendente.\n",
    "3. Se compara el primer elemento de la primera mitad con el primero de la segunda, luego el segundo de la primera con el segundo de la segunda y así sucesivamente. Se intercambian elementos si un elemento de la primera mitad es más pequeño que el de la segunda.Se concatenan, luego se separa en dos mitades y se ordenan en forman ascendente.\n"
   ]
  },
  {
   "cell_type": "markdown",
   "metadata": {},
   "source": [
    "### Ventajas\n"
   ]
  },
  {
   "cell_type": "markdown",
   "metadata": {},
   "source": [
    "- Las versiones paralelas de este tipo pueden ser más aceleradas, dependiendo de la implementación.\n",
    "- Aunque este algoritmo hace mñas comparaciones que otros, es mejor para implementarlo paralelamente porque siempre compara elementos de una secuencia predefinidad."
   ]
  },
  {
   "cell_type": "markdown",
   "metadata": {},
   "source": [
    "### Aplicaciones\n"
   ]
  },
  {
   "cell_type": "markdown",
   "metadata": {},
   "source": [
    "- Hardware\n",
    "- Matriz de procesadores paralelos"
   ]
  },
  {
   "cell_type": "markdown",
   "metadata": {},
   "source": [
    "### Pseudocódigo\n"
   ]
  },
  {
   "cell_type": "code",
   "execution_count": null,
   "metadata": {},
   "outputs": [],
   "source": [
    "public class BitonicSort {\n",
    "    static void kernel(int[] a, final int p, final int q) {\n",
    "        final int d = 1 << (p-q);\n",
    "\n",
    "        for(int i = 0; i < a.length; i++) {\n",
    "            boolean up = ((i >> p) & 2) == 0;\n",
    "\n",
    "            if ((i & d) == 0 && (a[i] > a[i | d]) == up) {\n",
    "                int t = a[i];\n",
    "                a[i] = a[i | d];\n",
    "                a[i | d] = t;\n",
    "            }\n",
    "        }\n",
    "    }\n",
    "\n",
    "    static void bitonicSort(final int logn, int[] a) {\n",
    "        assert a.length == 1 << logn;\n",
    "\n",
    "        for(int i = 0; i < logn; i++) {\n",
    "            for(int j = 0; j <= i; j++) {\n",
    "                kernel(a, i, j);\n",
    "            }\n",
    "        }\n",
    "    }\n",
    "\n",
    "    public static void main(String[] args) {\n",
    "        final int logn = 5, n = 1 << logn;\n",
    "\n",
    "        int[] a0 = new int[n];\n",
    "        for(int i = 0; i < n; i++) {\n",
    "            a0[i] = (int)(Math.random() * 1000);\n",
    "        }\n",
    "\n",
    "        for(int k = 0; k < a0.length; k++) {\n",
    "            System.out.print(a0[k] + \" \");\n",
    "        }\n",
    "        System.out.println();\n",
    "\n",
    "        bitonicSort(logn, a0);\n",
    "\n",
    "        for(int k = 0; k < a0.length; k++) {\n",
    "            System.out.print(a0[k] + \" \");\n",
    "        }\n",
    "        System.out.println();\n",
    "    }\n",
    "}"
   ]
  },
  {
   "cell_type": "markdown",
   "metadata": {},
   "source": [
    "### <font color='orange'>2. Pancake Sorting</font>"
   ]
  },
  {
   "cell_type": "markdown",
   "metadata": {},
   "source": [
    "### ¿Cómo funciona?\n"
   ]
  },
  {
   "cell_type": "markdown",
   "metadata": {},
   "source": [
    "Problema de ordenamiento en que la única operación permitida es la de invertir los elementos de algún prefijo de la secuencia. Su objetivo es ordenar con el menor número de inversiones posibles. La meta es ordenar los panqueques del más grande  en el fondo al más pequeño en el top. La única manera de hacerlo es insertando la espatula y volteando todo lo que está sobre ella.\n",
    "\n",
    "1. Encontrar el panque más grande que está fuera de orden y se debe mover hacia la parte inferior.\n",
    "2. Repetir"
   ]
  },
  {
   "cell_type": "markdown",
   "metadata": {},
   "source": [
    "### Ventajas\n"
   ]
  },
  {
   "cell_type": "markdown",
   "metadata": {},
   "source": [
    "- Run TIme O(n)\n",
    "- Memory Required O(n)"
   ]
  },
  {
   "cell_type": "markdown",
   "metadata": {},
   "source": [
    "### Aplicaciones\n"
   ]
  },
  {
   "cell_type": "markdown",
   "metadata": {},
   "source": [
    "- Algoritmos de uso diario."
   ]
  },
  {
   "cell_type": "markdown",
   "metadata": {},
   "source": [
    "### Pseudocódigo\n"
   ]
  },
  {
   "cell_type": "code",
   "execution_count": null,
   "metadata": {},
   "outputs": [],
   "source": [
    "1) iMax = Index of Largest element in unsorted array.\n",
    "Find index of the maximum element index in arr[0..unsorted_array_size -1].\n",
    "\n",
    "2) Call flip(array, iMax)\n",
    "It will flip all element of array from 0 to iMax index.\n",
    "The largest element will be the first element in the array.\n",
    "\n",
    "3) Call flip(array, unsorted_array_size -1)\n",
    "Flip complete unsorted array which result to put the largest element at the end of the unsorted array"
   ]
  },
  {
   "cell_type": "markdown",
   "metadata": {},
   "source": [
    "### <font color='purple'>3. Stupid Sort</font>"
   ]
  },
  {
   "cell_type": "markdown",
   "metadata": {},
   "source": [
    "### ¿Cómo funciona?\n"
   ]
  },
  {
   "cell_type": "markdown",
   "metadata": {},
   "source": [
    "También conocido como BogoSort o Slowsort, es un algoritmo de búsqueda inefectivo, el cuál está basado en el paradigma de ensayo y error. Realmente no es útil para order"
   ]
  },
  {
   "cell_type": "markdown",
   "metadata": {},
   "source": [
    "### Ventajas\n"
   ]
  },
  {
   "cell_type": "markdown",
   "metadata": {},
   "source": [
    "- Niguna"
   ]
  },
  {
   "cell_type": "markdown",
   "metadata": {},
   "source": [
    "### Aplicaciones\n"
   ]
  },
  {
   "cell_type": "markdown",
   "metadata": {},
   "source": [
    "- Usado como ejemplo en programación lógica.\n",
    "- Propósitos educativos para contrarestarlo con algortimos más efectivos.\n",
    "-"
   ]
  },
  {
   "cell_type": "markdown",
   "metadata": {},
   "source": [
    "### Pseudócodigo\n"
   ]
  },
  {
   "cell_type": "code",
   "execution_count": null,
   "metadata": {},
   "outputs": [],
   "source": [
    "Prueba y error\n",
    "1. Verificar si el arreglo está en orden\n",
    "if(orden=false){\n",
    "    random del arreglo\n",
    "    repetir hasta que este en ordem\n",
    "}"
   ]
  },
  {
   "cell_type": "markdown",
   "metadata": {},
   "source": [
    "## <font color='blue'>SEARCHING</font>"
   ]
  },
  {
   "cell_type": "markdown",
   "metadata": {},
   "source": [
    "### <font color='skyblue'>1. Depth-first search</font>"
   ]
  },
  {
   "cell_type": "markdown",
   "metadata": {},
   "source": [
    "### ¿Cómo funciona?\n"
   ]
  },
  {
   "cell_type": "markdown",
   "metadata": {},
   "source": [
    "DFS, busqueda en profundidad, este algoritmo se utiliza para recorrer todos los nodos de un grafo o árbol de manera ordenada, pero no uniforme. \n",
    "\n",
    "Consite en ir expandiendo todos y cada uno de los nodos que va localizando, de manera recurrente, en un camino concreto. Cuando acaba los nodos de dicho camino, regreesa, de manera que repite el mismo proceso con cada uno de los hermnaos del nodo que ya fue procesado."
   ]
  },
  {
   "cell_type": "markdown",
   "metadata": {},
   "source": [
    "### Ventajas\n"
   ]
  },
  {
   "cell_type": "markdown",
   "metadata": {},
   "source": [
    "- Más edificiente que el espacio BFS, pero puede ir a profundidades innecesarias.\n",
    "- Más fácil de implementar usando recursividad que el BFS"
   ]
  },
  {
   "cell_type": "markdown",
   "metadata": {},
   "source": [
    "### Aplicaciones\n"
   ]
  },
  {
   "cell_type": "markdown",
   "metadata": {},
   "source": [
    "- Paar encontrar componentes conectados.\n",
    "- Topological Sorting\n",
    "- Encontrar los bridges en un grafo.\n",
    "- Resolver rompecabezas con solo una solución, como los laberintos.\n",
    "- Generaciones de laberintos.\n",
    "- Encontrar biconectividad en grafos.\n"
   ]
  },
  {
   "cell_type": "markdown",
   "metadata": {},
   "source": [
    "### Pseudócodigo\n"
   ]
  },
  {
   "cell_type": "code",
   "execution_count": null,
   "metadata": {},
   "outputs": [],
   "source": [
    "DFS(grafo G)\n",
    "     PARA CADA vértice u ∈ V[G] HACER\n",
    "             estado[u] ← NO_VISITADO\n",
    "             padre[u] ← NULO\n",
    "     tiempo ← 0\n",
    "     PARA CADA vértice u ∈ V[G] HACER\n",
    "             SI estado[u] = NO_VISITADO ENTONCES\n",
    "                     DFS_Visitar(u,tiempo)\n",
    " \n",
    "DFS_Visitar(nodo u, int tiempo)\n",
    "     estado[u] ← VISITADO\n",
    "     tiempo ← tiempo + 1\n",
    "     d[u] ← tiempo\n",
    "     PARA CADA v ∈ Vecinos[u] HACER\n",
    "             SI estado[v] = NO_VISITADO ENTONCES\n",
    "                     padre[v] ← u\n",
    "                     DFS_Visitar(v,tiempo)\n",
    "     estado[u] ← TERMINADO\n",
    "     tiempo ← tiempo + 1\n",
    "     f[u] ← tiempo"
   ]
  },
  {
   "cell_type": "markdown",
   "metadata": {},
   "source": [
    "### <font color='pink'>2. Breadth-first search</font>"
   ]
  },
  {
   "cell_type": "markdown",
   "metadata": {},
   "source": [
    "### ¿Cómo funciona?\n"
   ]
  },
  {
   "cell_type": "markdown",
   "metadata": {},
   "source": [
    "Búsqueda en anchura, se usa para buscar elementos en un grafo o recorrerlo, inicia en el nodo raíz, y se exploran todos los vecinos del nodo, para cada uno de los vecinos se exploran sus respectivos vecinos adyacentes, y asñi hasta recorrer todo el árbol.\n",
    "\n",
    "Es un algoritmo de búsqueda sin información, que xpande y examina todos los nodos de un árbol"
   ]
  },
  {
   "cell_type": "markdown",
   "metadata": {},
   "source": [
    "### Ventajas\n"
   ]
  },
  {
   "cell_type": "markdown",
   "metadata": {},
   "source": [
    "- Se puede uitilizar para encontrar el camino más corto entre dos nodos en un grafo no ponderado."
   ]
  },
  {
   "cell_type": "markdown",
   "metadata": {},
   "source": [
    "### Aplicaciones\n"
   ]
  },
  {
   "cell_type": "markdown",
   "metadata": {},
   "source": [
    "- Se puede uitilizar para encontrar el camino más corto entre dos nodos en un grafo no ponderado.\n",
    "- Sugerecias de Fb de añadir amigos a partir de otro perfil de amigos.\n",
    "- Encontrar el camino más corto\n",
    "- Recorrer o buscar elementos en un grafo"
   ]
  },
  {
   "cell_type": "markdown",
   "metadata": {},
   "source": [
    "### Pseudocodigo\n"
   ]
  },
  {
   "cell_type": "code",
   "execution_count": null,
   "metadata": {},
   "outputs": [],
   "source": [
    "procedure BFS(G,start_v):\n",
    "     let S be a queue\n",
    "      S.enqueue(start_v)\n",
    "      while S is not empty\n",
    "         v = S.dequeue()\n",
    "         if v is the goal:\n",
    "              return v\n",
    "          for all edges from v to w in G.adjacentEdges(v) do\n",
    "              if w is not labeled as discovered:\n",
    "                 label w as discovered\n",
    "                 w.parent = v\n",
    "                 S.enqueue(w)"
   ]
  },
  {
   "cell_type": "markdown",
   "metadata": {},
   "source": [
    "### <font color='lightgreen'>3. The Ubiquitous Binary Search</font>"
   ]
  },
  {
   "cell_type": "markdown",
   "metadata": {},
   "source": [
    "### ¿Cómo funciona?\n"
   ]
  },
  {
   "cell_type": "markdown",
   "metadata": {},
   "source": [
    "La búsqueda binaria es un algoritmo para buscar de manera eficiente un elemento dentro de una lista ordenada de elementos. La búsqueda se realiza en pasos, y cada paso reduce el espacio de búsqueda a la mitad. En cada paso, se selecciona el punto medio y se compara con el valor de búsqueda. Si el punto medio es menor que el valor de búsqueda, solo se retendrá la mitad superior para el siguiente paso."
   ]
  },
  {
   "cell_type": "markdown",
   "metadata": {},
   "source": [
    "### Ventajas\n"
   ]
  },
  {
   "cell_type": "markdown",
   "metadata": {},
   "source": [
    "### Aplicaciones\n"
   ]
  },
  {
   "cell_type": "markdown",
   "metadata": {},
   "source": [
    "- Problemas de optimización\n"
   ]
  },
  {
   "cell_type": "markdown",
   "metadata": {},
   "source": [
    "### Pseudocódigo\n"
   ]
  },
  {
   "cell_type": "code",
   "execution_count": null,
   "metadata": {},
   "outputs": [],
   "source": [
    "def ubiquitous_binary_search(a,key) # a is the array and key is the value we want to search\n",
    "    lo= 0\n",
    "    hi = a.length-1\n",
    "    \n",
    "    while(hi-lo>1)\n",
    "     mid = lo + (hi-lo)/2\n",
    "     \n",
    "     if a[mid]<=key\n",
    "         lo=mid\n",
    "     else\n",
    "         hi=mid\n",
    "     end\n",
    "    end\n",
    "    \n",
    "    if (a[lo]== key)\n",
    "        return lo\n",
    "    else\n",
    "        return \"value not found\"\n",
    "    end\n",
    "end"
   ]
  },
  {
   "cell_type": "markdown",
   "metadata": {},
   "source": [
    "### Referencias\n",
    " - https://www.geeksforgeeks.org/bitonic-sort/\n",
    " - https://austingwalters.com/everyday-algorithms-pancake-sort/\n",
    " - https://geeksforgeekss.blogspot.com/2015/11/pancake-sort-in-java.html\n",
    " - https://www.geeksforgeeks.org/pancake-sorting/\n",
    " - https://es.wikipedia.org/wiki/Stupid_sort\n",
    " - https://www.code-helper.uno/questions/3332947/when-is-it-practical-to-use-depthfirst-search-dfs-vs-breadthfirst-search-bfs\n",
    " - https://en.wikipedia.org/wiki/Depth-first_search#Applications\n",
    " - https://en.wikipedia.org/wiki/Breadth-first_search\n",
    " - https://www.coursehero.com/file/12192911/The-Ubiquitous-Binary-Search/"
   ]
  },
  {
   "cell_type": "code",
   "execution_count": null,
   "metadata": {},
   "outputs": [],
   "source": []
  }
 ],
 "metadata": {
  "kernelspec": {
   "display_name": "Python 3",
   "language": "python",
   "name": "python3"
  },
  "language_info": {
   "codemirror_mode": {
    "name": "ipython",
    "version": 3
   },
   "file_extension": ".py",
   "mimetype": "text/x-python",
   "name": "python",
   "nbconvert_exporter": "python",
   "pygments_lexer": "ipython3",
   "version": "3.7.1"
  }
 },
 "nbformat": 4,
 "nbformat_minor": 2
}
