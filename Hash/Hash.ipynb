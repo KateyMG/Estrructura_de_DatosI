{
 "cells": [
  {
   "cell_type": "markdown",
   "metadata": {},
   "source": [
    "# <font color='green'>HASH FUNCTIONS</font>"
   ]
  },
  {
   "cell_type": "markdown",
   "metadata": {},
   "source": [
    "# <font color=blue>1. Perfect hash function </font>\n"
   ]
  },
  {
   "cell_type": "markdown",
   "metadata": {},
   "source": [
    "Es una función de hash para un conjuntos S que mapea elemtnos distintos para cada uno, es decir sin colisiones. Una función inyectiva. Se pueden usar funciones hash perfectas para implementar una tabla de búsqueda con un tiempo de acceso constante en el peor de los casos. "
   ]
  },
  {
   "cell_type": "markdown",
   "metadata": {},
   "source": [
    "### Ventaja"
   ]
  },
  {
   "cell_type": "markdown",
   "metadata": {},
   "source": [
    "- Ninguna resolución de colisión"
   ]
  },
  {
   "cell_type": "markdown",
   "metadata": {},
   "source": [
    "### Aplicaciones"
   ]
  },
  {
   "cell_type": "markdown",
   "metadata": {},
   "source": [
    "- Operaciones de búsqueda eficientes."
   ]
  },
  {
   "cell_type": "markdown",
   "metadata": {},
   "source": [
    "# <font color=pink>.2 Rolling Hash</font>\n"
   ]
  },
  {
   "cell_type": "markdown",
   "metadata": {},
   "source": [
    "También es conocida como hash recursivo, es una función de hash en la cual la entrada de un hash se mueve a través de la entrada. Algunas funciones de hash permiten que un hash se calcule muy rápidamente: el nuevo valor de hash se calcula rápidamente dado solo el valor de hash anterior, el valor antiguo eliminado de la ventana y el nuevo valor agregado a la ventana.\n"
   ]
  },
  {
   "cell_type": "markdown",
   "metadata": {},
   "source": [
    "### Aplicaciones"
   ]
  },
  {
   "cell_type": "markdown",
   "metadata": {},
   "source": [
    "- Algoritmo de búsqueda de cadenas Rabin-Karp\n",
    "- Progrma rsync.\n",
    "- Sistema de archivos de red de banda ancha (LBFS)\n"
   ]
  },
  {
   "cell_type": "markdown",
   "metadata": {},
   "source": [
    "# <font color=orange>3. Zobrist hashing </font>\n"
   ]
  },
  {
   "cell_type": "markdown",
   "metadata": {},
   "source": [
    "Ya que su creación fue principalemnte para juegos de ajedrez, el hashhing Zobrist inicia generando aleatoriamente cadenas de bits para cada elemento posible de un juego de mesa, para cada combinación de una pieza y una posición. Cada componente se puede dividir en componentes independientes de pieza-posición, que son asignadas a las cadenas de bits aleatorias generadas antes. El final es calculado combinando las cadenas de bits."
   ]
  },
  {
   "cell_type": "markdown",
   "metadata": {},
   "source": [
    "### Aplicaciones"
   ]
  },
  {
   "cell_type": "markdown",
   "metadata": {},
   "source": [
    "- Juegos de tablero abstractos (Ajedrez)\n",
    "- Implementar tablas de trannsposición\n",
    "- Reconocer configuraciones de aleaciones en simulaciones de materiales cristalinos"
   ]
  },
  {
   "cell_type": "markdown",
   "metadata": {},
   "source": [
    "# <font color=skyblue>4. Pearson hashing </font>\n"
   ]
  },
  {
   "cell_type": "markdown",
   "metadata": {},
   "source": [
    "Está función fue diseñada paea una ejecución rápida en procesadores con 8 bits. Dada una entrada de cualquier número de bytes, produce un solo byte.  Utiliza un cifrado de sustitución de 8 bits implementado a través de la tabla de sustitución. Un cifrado de 8 bits tiene una seguridad criptográfica pequeña, por lo que la función de hash de Pearson no es criptográficamente sólida, pero útil para implementar tablas hash o como un código de verificación de integridad de datos"
   ]
  },
  {
   "cell_type": "markdown",
   "metadata": {},
   "source": [
    "### Ventajas"
   ]
  },
  {
   "cell_type": "markdown",
   "metadata": {},
   "source": [
    "- Es demsiado simple\n",
    "- Se ejecuta de una manera rápida en procesadores de recursos limitados\n",
    "- No existe una clase simple de entrada para las cuales las colisiones sean probables.\n"
   ]
  },
  {
   "cell_type": "markdown",
   "metadata": {},
   "source": [
    "### Desventaja"
   ]
  },
  {
   "cell_type": "markdown",
   "metadata": {},
   "source": [
    "En comparación con otros algoritmos diseñados para porcesadores de 8 bits, en una tabla de 256 bytes se puede dar el caso de que sea grande para un pequeño microcontrolador con un tamaño de memoria de programa del orden de cientos de bytes."
   ]
  },
  {
   "cell_type": "markdown",
   "metadata": {},
   "source": [
    "### Aplicaciones"
   ]
  },
  {
   "cell_type": "markdown",
   "metadata": {},
   "source": [
    "- Verificacion de integridad de datos"
   ]
  },
  {
   "cell_type": "markdown",
   "metadata": {},
   "source": [
    "# <font color=purple>5. MurmurHash</font>\n"
   ]
  },
  {
   "cell_type": "markdown",
   "metadata": {},
   "source": [
    "Es una función hash no cripográfica especifificamente parra las búsqueda general basada en hash. Creada por Austing Appleby en el año 2008y se encuentra en un repositorio, \"SMHasher\", de Github junto a todas sus pruebas. Su nombre está compuesto de las dos operaciones básicas que son utilizadas ineternamente, multiplicar y rotar. Existe uan serie de variantes y es fácil de revertir."
   ]
  },
  {
   "cell_type": "markdown",
   "metadata": {},
   "source": [
    "### Aplicaciones\n"
   ]
  },
  {
   "cell_type": "markdown",
   "metadata": {},
   "source": [
    "Originalmente está implementada en C##, pero hay puertos eficientes para una gran variedad de progrmas. "
   ]
  },
  {
   "cell_type": "markdown",
   "metadata": {},
   "source": [
    "Se ha usado en varios proyectos open source.\n",
    "Por ejemplo: el contralodro C para memoria caché, gestor de paquetes nodejs, Optimizador de Datos Virtual, entre otros."
   ]
  },
  {
   "cell_type": "markdown",
   "metadata": {},
   "source": [
    "### Desventajas"
   ]
  },
  {
   "cell_type": "markdown",
   "metadata": {},
   "source": [
    "Vulnerable a ataques."
   ]
  },
  {
   "cell_type": "markdown",
   "metadata": {},
   "source": []
  }
 ],
 "metadata": {
  "kernelspec": {
   "display_name": "Python 3",
   "language": "python",
   "name": "python3"
  },
  "language_info": {
   "codemirror_mode": {
    "name": "ipython",
    "version": 3
   },
   "file_extension": ".py",
   "mimetype": "text/x-python",
   "name": "python",
   "nbconvert_exporter": "python",
   "pygments_lexer": "ipython3",
   "version": "3.7.1"
  }
 },
 "nbformat": 4,
 "nbformat_minor": 2
}
