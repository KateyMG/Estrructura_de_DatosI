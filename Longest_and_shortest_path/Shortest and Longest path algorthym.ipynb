{
 "cells": [
  {
   "cell_type": "markdown",
   "metadata": {},
   "source": [
    "# <font color='green'>LONGEST_AND_SHORTEST_ALGORITHM</font>\n",
    "   "
   ]
  },
  {
   "cell_type": "markdown",
   "metadata": {},
   "source": [
    "## <font color=blue>1. Algoritmo de Johson </font>\n"
   ]
  },
  {
   "cell_type": "markdown",
   "metadata": {},
   "source": [
    "Este algoritmo es una manera de encontrar el camino más corto entre los pares de vértices de un grafo dirigido disperso. Las aristas pueden tener pesos negativos dispersos, pero no ciclos de peso negativo. El nombre proviene de Donald B. Johnson,, quien fue el primero en publicar la técnica en 1977.\n"
   ]
  },
  {
   "cell_type": "markdown",
   "metadata": {},
   "source": [
    "### ¿Cómo funciona?\n"
   ]
  },
  {
   "cell_type": "markdown",
   "metadata": {},
   "source": [
    "Este algoritmo funciona con el algoritmo de Bellman-Ford(explicado después) para transformar el grafo inicial eliminado todos los pesos negativos, para luego poder usar el algoritmo de Dijkstra(explicado después)con el grafo que ya fue transformado.\n",
    "\n"
   ]
  },
  {
   "cell_type": "markdown",
   "metadata": {},
   "source": [
    "### Pasos\n"
   ]
  },
  {
   "cell_type": "markdown",
   "metadata": {},
   "source": [
    "- Se añade un nuevo nodo n al grafo, conectando todos los nodos del grafo por una arista con peso 0.\n",
    "- Se utiliza el algoritmo de Bellman-Ford, iniciando con el nuevo vértice n, para determinar para cada vértice v el peso mínimo h(v) del camino que va de n a v. Si hay un ciclo negativos, el algoritmo se detiene.\n",
    "- Luego, a las aristas del grafo original se les cambia el peso, por el peso calculado por el algoritmo de Bellman-Ford. Ejemplo: una arista que va de u a v con tamaño w(u,v=, obtiene el nuevo tamaño w(u,v) + h(u)-h(v)\n",
    "- Para finalizar, para cada nodo se utiliza el algoritmo de Dijkstra para determinar cuál es el camino más corto entre s y los demás nodos, usando el grafo con los pesos que fueron modificados.\n",
    "\n"
   ]
  },
  {
   "cell_type": "markdown",
   "metadata": {},
   "source": [
    "## <font color=red>2. A* search algorithm </font>"
   ]
  },
  {
   "cell_type": "markdown",
   "metadata": {},
   "source": [
    "Es un algoritmo de búsqueda en grafos. Fue presentado en 1968 por Peter E. Hart, Nils J. Nilsson y Bertram Raphael. La función de este algoritmo es encontrar de acuerdo a ciertas condiciones, el camino más corto entre un nodo de origen y un nodo objetivo, es la forma más conocida de la búsqueda primero el mejor, es completa y óptima."
   ]
  },
  {
   "cell_type": "markdown",
   "metadata": {},
   "source": [
    "### ¿Cómo funciona?\n"
   ]
  },
  {
   "cell_type": "markdown",
   "metadata": {},
   "source": [
    "Este algoritmo utiliza una función de evaluación f(n) = g(n) + h´(n), donde h´(n) es el valor heurístico del nodo que se evaluará desde el actual, n, hasta el final, y g(n), el costo real del camino para llegar a dicho nodo, n.  Este algoritmo mantiene dos estructuras de datos auxiliares, que se pueden denominar abiertos, implementando una cola de prioridad ordenada por el valor f(n) de cada nodo, y cerrados, donde se guarda la información de los nodos que ya fueron visitados. En cada paso del algoritmo el nodo que esté primero en abiertos se expande e, si no es  un nodo objetivo, calcula la f(n) de todos sus hijos, los inserta en abiertos, y pasa el nodo evaluado a cerrados. Este algoritmo es una combinación entre búsquedas del tipo primero en anchura con primero en profundidad: mientras que h'(n) tiende a primero en profundidad, g(n) tiende a primero en anchura. De este modo, se cambia de camino de búsqueda cada vez que existen nodos más prometedores."
   ]
  },
  {
   "cell_type": "markdown",
   "metadata": {},
   "source": [
    "## <font color=pink>3. Bellman-Ford </font>"
   ]
  },
  {
   "cell_type": "markdown",
   "metadata": {},
   "source": [
    "Este algoritmo genera el camino más corto en un grafo dirigido ponderado, es decir que este puede tener arista con peso negativo. Fue desarrollado por Richard Bellman, Samuel End y Lester Ford."
   ]
  },
  {
   "cell_type": "markdown",
   "metadata": {},
   "source": [
    "### ¿Cómo funciona?"
   ]
  },
  {
   "cell_type": "markdown",
   "metadata": {},
   "source": [
    "Este algoritmo funciona muy similar al algoritmo de Dijkstra, la diferencia está en que en lugar de escoger vorazmente el nodo de peso mínimo incluso sin procesar para relajar, sencillamente relaja todas y cada una de las aristas, y lo hace |V|-1 veces, siendo |V| el número de vértices en el grafo. Las reiteraciones dejan a las distancias mínimas recorrer el árbol, puesto que en la ausencia de ciclos negativos, el camino más corto solo visita cada vértice una vez. En contraste a la solución insaciable, la que depende de la suposición de que los pesos sean positivos, esta solución se acerca más al caso general."
   ]
  },
  {
   "cell_type": "markdown",
   "metadata": {},
   "source": [
    "## <font color=orange>4. Dijkstra's shortest path algorithm</font>"
   ]
  },
  {
   "cell_type": "markdown",
   "metadata": {},
   "source": [
    "Conocido también como algoritmo de caminos mínimos, sirve para determinar el camino más corto dado un vértice de origen al resto de vértices de un grafo con pesos determinados para cada arista. Es llamado así en honor a Edsger Dijkstra, quien lo describió por primera vez en 1959."
   ]
  },
  {
   "cell_type": "markdown",
   "metadata": {},
   "source": [
    "### ¿Cómo funciona?"
   ]
  },
  {
   "cell_type": "markdown",
   "metadata": {},
   "source": [
    "Teniendo un grafo dirigido ponderado de N nodos y un nodo inicial x. Un vector D de tamaño N guardará al final del algoritmo las distancias desde x hasta el resto de los nodos.\n",
    "1. Inicializar todas las distancias en D con un valor infinito, pues son desconocidas al principio, exceptuando la de x, que se debe colocar en 0, porque la distancia de x a x sería 0.\n",
    "2. Sea a = x (Se toma a como nodo actual.)\n",
    "3. Se recorren todos los nodos adyacentes de a, excepto los nodos marcados. Se les llamará nodos no marcados vi.\n",
    "4. Para el nodo actual, se calcula la distancia tentativa desde dicho nodo hasta sus vecinos con la siguiente fórmula: dt(vi) = Da + d(a,vi). Es decir, la distancia tentativa del nodo ‘vi’ es la distancia que actualmente tiene el nodo en el vector D más la distancia desde dicho nodo ‘a’ (el actual) hasta el nodo vi. Si la distancia tentativa es menor que la distancia almacenada en el vector, entonces se actualiza el vector con esta distancia tentativa. Es decir, si dt(vi) < Dvi → Dvi = dt(vi)\n",
    "5. Se marca como completo el nodo a.\n",
    "6. Se toma como próximo nodo actual el de menor valor en D (puede hacerse almacenando los valores en una cola de prioridad) y se regresa al paso 3, mientras existan nodos no marcados.\n",
    "\n",
    "Una vez terminado al algoritmo, D estará completamente lleno.\n"
   ]
  },
  {
   "cell_type": "markdown",
   "metadata": {},
   "source": [
    "### Ventajas"
   ]
  },
  {
   "cell_type": "markdown",
   "metadata": {},
   "source": [
    " - Tiempo menor en encontrar el camino más corto, siempre y cuando los pesos no sean negativos, sea un grado dirigido y sin ciclos.\n",
    " - Analiza cada métrica de coste para elegir la mejor ruta con el mínimo coste.\n",
    " - Cada uno de los routers posee una información sobre la topología de la red.\n",
    " - Admiten CIDR y VLSM.\n"
   ]
  },
  {
   "cell_type": "markdown",
   "metadata": {},
   "source": [
    "### Aplicaciones"
   ]
  },
  {
   "cell_type": "markdown",
   "metadata": {},
   "source": [
    "En ocasiones al utilizar grafos es necesario saber el camino más corto entre dos vértices, gracias a este algoritmo es posible determinar la distancia más corta, el esfuerzo minímo o el costo más bajo, entre dos nodos. por ejemplo:\n",
    "- Distribución de productos a una red de establecimientos comerciales\n",
    "- Distribución de correos postales\n",
    "- Enrutamiento de aviones y tráfico aéreo\n",
    "- Waze, podría ser, ya que es como llegar desde un punto a otro por el camino más rápido\n",
    "-Camino más rápido de la información por las neuronas.\n"
   ]
  },
  {
   "cell_type": "markdown",
   "metadata": {},
   "source": [
    "### Pseudocódigo"
   ]
  },
  {
   "cell_type": "code",
   "execution_count": null,
   "metadata": {},
   "outputs": [],
   "source": [
    "function Dijkstra(Graph, source)\n",
    "    for each vertex v in Graph           //Initialization\n",
    "        dist[v] = infinity               //Initial distance from source to vertex v is set to infinite\n",
    "        previous[v] = undefined          //Previous node in optimal path from source\n",
    "    dist[source] = 0                     //Distance from source to source\n",
    "    Q = the set of all nodes in Graph    //all nodes in the graph are unoptimized -thus are in Q\n",
    "    while Q is not empty                 //main loop\n",
    "         u = node in Q with smallest dist[]\n",
    "        remove u from Q\n",
    "        for each neighbor v of u         //where v has not yet been removed from Q\n",
    "            alt = dist[u] + dist_between(u,v) \n",
    "            if alt < dist[v]             //Relax (u,v)\n",
    "                 dist[v] = alt\n",
    "                previous[v] =u\n",
    "    return previous[]"
   ]
  },
  {
   "cell_type": "code",
   "execution_count": null,
   "metadata": {},
   "outputs": [],
   "source": [
    "DIJKSTRA (Grafo G, nodo_fuente s)\n",
    " para u ∈ V[G] hacer \n",
    "   distancia[u] = INFINITO \n",
    "   padre[u] = NULL \n",
    " distancia[s] = 0 \n",
    " adicionar (cola, (s,distancia[s])) \n",
    " mientras que cola no es vacía hacer \n",
    "    u = extraer_minimo(cola) \n",
    "   para todos v ∈ adyacencia[u] hacer \n",
    "    si distancia[v] > distancia[u] + peso (u, v) hacer \n",
    "      distancia[v] = distancia[u] + peso (u, v) \n",
    "      padre[v] = u \n",
    "      adicionar(cola,(v,distancia[v]))"
   ]
  },
  {
   "cell_type": "markdown",
   "metadata": {},
   "source": [
    "## <font color=skyblue>5. Floyd-Warshall</font> "
   ]
  },
  {
   "cell_type": "markdown",
   "metadata": {},
   "source": [
    "Este algoritmo encuentra el camino mínimo en grafos dirigidos ponderados, fue descrito por Bernard roy en 1959, este algoritmo encunetra todos los pares de vértices en una única ejecución\n"
   ]
  },
  {
   "cell_type": "markdown",
   "metadata": {},
   "source": [
    "### ¿Cómo funciona?\n"
   ]
  },
  {
   "cell_type": "markdown",
   "metadata": {},
   "source": [
    "El algoritmo de Floyd-Warshall compara todos los posibles caminos a través del grafo entre cada par de vértices. El algoritmo es capaz de hacer esto con sólo V^3 comparaciones (esto es notable considerando que puede haber hasta V^2 aristas en el grafo, y que cada combinación de aristas se prueba). Lo hace mejorando paulatinamente una estimación del camino más corto entre dos vértices, hasta que se sabe que la estimación es óptima.\n",
    "\n",
    "Sea un grafo G con conjunto de vértices V, numerados de 1 a N. Sea además una función caminoMinimo(i,j,k)  que devuelve el camino mínimo de i a  j usando únicamente los vértices de 1 ak como puntos intermedios en el camino. Ahora, dada esta función, nuestro objetivo es encontrar el camino mínimo desde cada i a cada j usando únicamente los vértices de 1 hasta  k+1}."
   ]
  },
  {
   "cell_type": "markdown",
   "metadata": {},
   "source": [
    "### Ventajas\n"
   ]
  },
  {
   "cell_type": "markdown",
   "metadata": {},
   "source": [
    "- Obtine la mejor ruta entre un par de nodos.\n",
    "- El algoritmo da solo la mjeor distancia.\n",
    "- Su complejida es del orden N^3"
   ]
  },
  {
   "cell_type": "markdown",
   "metadata": {},
   "source": [
    "### Aplicaciones\n"
   ]
  },
  {
   "cell_type": "markdown",
   "metadata": {},
   "source": [
    "Este algoritmo puede ser utilizado para:\n",
    "\n",
    "- Camino más corto en grafos dirigidos (Floyd)\n",
    "- Cierre transitivo en grafos dirigidos (Warshall)\n",
    "- Inversión de matrices de números reales\n",
    "- Ruta optima.\n",
    "- Comprobar si un grafo no dirigido es bipartido"
   ]
  },
  {
   "cell_type": "markdown",
   "metadata": {},
   "source": [
    "### Pseudocódigo\n"
   ]
  },
  {
   "cell_type": "code",
   "execution_count": null,
   "metadata": {},
   "outputs": [],
   "source": [
    "/* Suponemos que la función pesoArista devuelve el coste del camino que va de i a j\n",
    "    (infinito si no existe).\n",
    " También suponemos que n es el número de vértices y pesoArista(i,i) = 0\n",
    "*/\n",
    "\n",
    " int camino[][];\n",
    " /* Una matriz bidimensional. En cada paso del algoritmo, camino[i][j] es el camino mínimo \n",
    " de i hasta j usando valores intermedios de (1..k-1). Cada camino[i][j] es inicializado a \n",
    "\n",
    " */\n",
    "\n",
    " procedimiento FloydWarshall ()\n",
    "    para k: = 0 hasta n − 1\n",
    "\n",
    "          camino[i][j] = mín ( camino[i][j], camino[i][k]+camino[k][j])\n",
    "    fin "
   ]
  },
  {
   "cell_type": "markdown",
   "metadata": {},
   "source": [
    "#### Referencias\n"
   ]
  },
  {
   "cell_type": "markdown",
   "metadata": {},
   "source": [
    "https://dl.acm.org/citation.cfm?doid=321992.321993\n",
    "https://www.ecured.cu/Algoritmo_de_B%C3%BAsqueda_Heur%C3%ADstica_A*\n",
    "http://www.gitta.info/Accessibiliti/en/html/Dijkstra_learningObject1.html\n",
    "https://www.ecured.cu/Algoritmo_de_Dijkstra#Aplicaciones\n",
    "https://www.ecured.cu/Floyd-Warshall#Caracter.C3.ADsticas\n"
   ]
  }
 ],
 "metadata": {
  "kernelspec": {
   "display_name": "Python 3",
   "language": "python",
   "name": "python3"
  },
  "language_info": {
   "codemirror_mode": {
    "name": "ipython",
    "version": 3
   },
   "file_extension": ".py",
   "mimetype": "text/x-python",
   "name": "python",
   "nbconvert_exporter": "python",
   "pygments_lexer": "ipython3",
   "version": "3.7.1"
  }
 },
 "nbformat": 4,
 "nbformat_minor": 2
}
